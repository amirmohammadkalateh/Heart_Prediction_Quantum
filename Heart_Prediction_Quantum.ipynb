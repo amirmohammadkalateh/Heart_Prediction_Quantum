{
  "nbformat": 4,
  "nbformat_minor": 0,
  "metadata": {
    "colab": {
      "provenance": [],
      "authorship_tag": "ABX9TyPf7/geVO7ti+Iuo2uQcQ9B",
      "include_colab_link": true
    },
    "kernelspec": {
      "name": "python3",
      "display_name": "Python 3"
    },
    "language_info": {
      "name": "python"
    }
  },
  "cells": [
    {
      "cell_type": "markdown",
      "metadata": {
        "id": "view-in-github",
        "colab_type": "text"
      },
      "source": [
        "<a href=\"https://colab.research.google.com/github/amirmohammadkalateh/Heart_Prediction_Quantum/blob/main/Heart_Prediction_Quantum.ipynb\" target=\"_parent\"><img src=\"https://colab.research.google.com/assets/colab-badge.svg\" alt=\"Open In Colab\"/></a>"
      ]
    },
    {
      "cell_type": "code",
      "execution_count": 1,
      "metadata": {
        "colab": {
          "base_uri": "https://localhost:8080/"
        },
        "id": "jlEBZAnGKavJ",
        "outputId": "b7065f20-cf09-445e-afb1-7ea59647092e"
      },
      "outputs": [
        {
          "output_type": "stream",
          "name": "stdout",
          "text": [
            "Decision Tree Model Results:\n",
            "Accuracy: 0.93\n",
            "\n",
            "Detailed Classification Report:\n",
            "              precision    recall  f1-score   support\n",
            "\n",
            "           0       0.88      0.95      0.92        40\n",
            "           1       0.96      0.92      0.94        60\n",
            "\n",
            "    accuracy                           0.93       100\n",
            "   macro avg       0.92      0.93      0.93       100\n",
            "weighted avg       0.93      0.93      0.93       100\n",
            "\n",
            "\n",
            "Feature Importance:\n",
            "                 feature  importance\n",
            "5  QuantumPatternFeature    0.865230\n",
            "3            Cholesterol    0.040506\n",
            "0                    Age    0.036144\n",
            "2          BloodPressure    0.025307\n",
            "4              HeartRate    0.024132\n",
            "1                 Gender    0.008681\n"
          ]
        }
      ],
      "source": [
        "\n",
        "import pandas as pd\n",
        "from sklearn.tree import DecisionTreeClassifier\n",
        "from sklearn.model_selection import train_test_split\n",
        "from sklearn.metrics import accuracy_score, classification_report\n",
        "\n",
        "# Load the dataset\n",
        "data = pd.read_csv('Heart Prediction Quantum Dataset.csv')\n",
        "\n",
        "# Separate features and target\n",
        "X = data.drop('HeartDisease', axis=1)\n",
        "y = data['HeartDisease']\n",
        "\n",
        "# Split the data\n",
        "X_train, X_test, y_train, y_test = train_test_split(X, y, test_size=0.2, random_state=42)\n",
        "\n",
        "# Create and train the decision tree model\n",
        "dt_model = DecisionTreeClassifier(random_state=42)\n",
        "dt_model.fit(X_train, y_train)\n",
        "\n",
        "# Make predictions\n",
        "y_pred = dt_model.predict(X_test)\n",
        "\n",
        "# Print results\n",
        "print(\"Decision Tree Model Results:\")\n",
        "print(\"Accuracy:\", accuracy_score(y_test, y_pred))\n",
        "print(\"\\nDetailed Classification Report:\")\n",
        "print(classification_report(y_test, y_pred))\n",
        "\n",
        "# Feature importance\n",
        "feature_importance = pd.DataFrame({\n",
        "    'feature': X.columns,\n",
        "    'importance': dt_model.feature_importances_\n",
        "})\n",
        "print(\"\\nFeature Importance:\")\n",
        "print(feature_importance.sort_values(by='importance', ascending=False))\n"
      ]
    },
    {
      "cell_type": "code",
      "source": [
        "import matplotlib.pyplot as plt\n",
        "from sklearn.tree import plot_tree, export_text # Import plot_tree and export_text\n",
        "\n",
        "# Visualize the decision tree\n",
        "plt.figure(figsize=(20,10))\n",
        "plot_tree(dt_model, feature_names=X.columns, class_names=['No Disease', 'Disease'],\n",
        "          filled=True, rounded=True, fontsize=10)\n",
        "plt.savefig('decision_tree.png')\n",
        "plt.close()\n",
        "\n",
        "# Print text representation of the tree\n",
        "print(\"\\nText Representation of the Decision Tree:\")\n",
        "print(export_text(dt_model, feature_names=list(X.columns)))\n"
      ],
      "metadata": {
        "colab": {
          "base_uri": "https://localhost:8080/"
        },
        "id": "z6tXngZHK6jd",
        "outputId": "e2bd1c85-68c6-4440-9a4a-aa787a0dd2c4"
      },
      "execution_count": 4,
      "outputs": [
        {
          "output_type": "stream",
          "name": "stdout",
          "text": [
            "\n",
            "Text Representation of the Decision Tree:\n",
            "|--- QuantumPatternFeature <= 8.47\n",
            "|   |--- QuantumPatternFeature <= 8.39\n",
            "|   |   |--- QuantumPatternFeature <= 8.35\n",
            "|   |   |   |--- Age <= 34.50\n",
            "|   |   |   |   |--- Cholesterol <= 170.00\n",
            "|   |   |   |   |   |--- QuantumPatternFeature <= 8.19\n",
            "|   |   |   |   |   |   |--- class: 1\n",
            "|   |   |   |   |   |--- QuantumPatternFeature >  8.19\n",
            "|   |   |   |   |   |   |--- class: 0\n",
            "|   |   |   |   |--- Cholesterol >  170.00\n",
            "|   |   |   |   |   |--- class: 1\n",
            "|   |   |   |--- Age >  34.50\n",
            "|   |   |   |   |--- class: 1\n",
            "|   |   |--- QuantumPatternFeature >  8.35\n",
            "|   |   |   |--- QuantumPatternFeature <= 8.36\n",
            "|   |   |   |   |--- class: 0\n",
            "|   |   |   |--- QuantumPatternFeature >  8.36\n",
            "|   |   |   |   |--- class: 1\n",
            "|   |--- QuantumPatternFeature >  8.39\n",
            "|   |   |--- Age <= 57.50\n",
            "|   |   |   |--- class: 1\n",
            "|   |   |--- Age >  57.50\n",
            "|   |   |   |--- BloodPressure <= 93.00\n",
            "|   |   |   |   |--- class: 1\n",
            "|   |   |   |--- BloodPressure >  93.00\n",
            "|   |   |   |   |--- Gender <= 0.50\n",
            "|   |   |   |   |   |--- class: 1\n",
            "|   |   |   |   |--- Gender >  0.50\n",
            "|   |   |   |   |   |--- class: 0\n",
            "|--- QuantumPatternFeature >  8.47\n",
            "|   |--- QuantumPatternFeature <= 8.86\n",
            "|   |   |--- Cholesterol <= 297.50\n",
            "|   |   |   |--- Age <= 31.50\n",
            "|   |   |   |   |--- class: 1\n",
            "|   |   |   |--- Age >  31.50\n",
            "|   |   |   |   |--- QuantumPatternFeature <= 8.85\n",
            "|   |   |   |   |   |--- Cholesterol <= 175.00\n",
            "|   |   |   |   |   |   |--- Cholesterol <= 163.00\n",
            "|   |   |   |   |   |   |   |--- BloodPressure <= 125.00\n",
            "|   |   |   |   |   |   |   |   |--- class: 1\n",
            "|   |   |   |   |   |   |   |--- BloodPressure >  125.00\n",
            "|   |   |   |   |   |   |   |   |--- class: 0\n",
            "|   |   |   |   |   |   |--- Cholesterol >  163.00\n",
            "|   |   |   |   |   |   |   |--- class: 1\n",
            "|   |   |   |   |   |--- Cholesterol >  175.00\n",
            "|   |   |   |   |   |   |--- QuantumPatternFeature <= 8.50\n",
            "|   |   |   |   |   |   |   |--- HeartRate <= 110.50\n",
            "|   |   |   |   |   |   |   |   |--- class: 1\n",
            "|   |   |   |   |   |   |   |--- HeartRate >  110.50\n",
            "|   |   |   |   |   |   |   |   |--- class: 0\n",
            "|   |   |   |   |   |   |--- QuantumPatternFeature >  8.50\n",
            "|   |   |   |   |   |   |   |--- Age <= 54.50\n",
            "|   |   |   |   |   |   |   |   |--- class: 0\n",
            "|   |   |   |   |   |   |   |--- Age >  54.50\n",
            "|   |   |   |   |   |   |   |   |--- Age <= 56.00\n",
            "|   |   |   |   |   |   |   |   |   |--- class: 1\n",
            "|   |   |   |   |   |   |   |   |--- Age >  56.00\n",
            "|   |   |   |   |   |   |   |   |   |--- QuantumPatternFeature <= 8.78\n",
            "|   |   |   |   |   |   |   |   |   |   |--- QuantumPatternFeature <= 8.68\n",
            "|   |   |   |   |   |   |   |   |   |   |   |--- truncated branch of depth 4\n",
            "|   |   |   |   |   |   |   |   |   |   |--- QuantumPatternFeature >  8.68\n",
            "|   |   |   |   |   |   |   |   |   |   |   |--- class: 0\n",
            "|   |   |   |   |   |   |   |   |   |--- QuantumPatternFeature >  8.78\n",
            "|   |   |   |   |   |   |   |   |   |   |--- QuantumPatternFeature <= 8.80\n",
            "|   |   |   |   |   |   |   |   |   |   |   |--- class: 1\n",
            "|   |   |   |   |   |   |   |   |   |   |--- QuantumPatternFeature >  8.80\n",
            "|   |   |   |   |   |   |   |   |   |   |   |--- truncated branch of depth 2\n",
            "|   |   |   |   |--- QuantumPatternFeature >  8.85\n",
            "|   |   |   |   |   |--- class: 1\n",
            "|   |   |--- Cholesterol >  297.50\n",
            "|   |   |   |--- class: 1\n",
            "|   |--- QuantumPatternFeature >  8.86\n",
            "|   |   |--- BloodPressure <= 178.50\n",
            "|   |   |   |--- class: 0\n",
            "|   |   |--- BloodPressure >  178.50\n",
            "|   |   |   |--- QuantumPatternFeature <= 8.93\n",
            "|   |   |   |   |--- class: 1\n",
            "|   |   |   |--- QuantumPatternFeature >  8.93\n",
            "|   |   |   |   |--- class: 0\n",
            "\n"
          ]
        }
      ]
    },
    {
      "cell_type": "code",
      "source": [
        "import seaborn as sns\n",
        "from sklearn.metrics import accuracy_score, classification_report, confusion_matrix\n",
        "# Create and plot confusion matrix\n",
        "cm = confusion_matrix(y_test, y_pred)\n",
        "plt.figure(figsize=(8, 6))\n",
        "sns.heatmap(cm, annot=True, fmt='d', cmap='Blues',\n",
        "            xticklabels=['No Disease', 'Disease'],\n",
        "            yticklabels=['No Disease', 'Disease'])\n",
        "plt.title('Confusion Matrix')\n",
        "plt.ylabel('True Label')\n",
        "plt.xlabel('Predicted Label')\n",
        "plt.savefig('confusion_matrix.png')\n",
        "plt.close()"
      ],
      "metadata": {
        "id": "tvUSAOcnLi6I"
      },
      "execution_count": 7,
      "outputs": []
    }
  ]
}